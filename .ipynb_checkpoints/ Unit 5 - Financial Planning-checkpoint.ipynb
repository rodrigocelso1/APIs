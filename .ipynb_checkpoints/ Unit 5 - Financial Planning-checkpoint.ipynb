{
 "cells": [
  {
   "cell_type": "code",
   "execution_count": 1,
   "metadata": {},
   "outputs": [],
   "source": [
    "###Initial imports\n",
    "import os\n",
    "import requests\n",
    "import pandas as pd\n",
    "from dotenv import load_dotenv\n",
    "import alpaca_trade_api as tradeapi\n",
    "\n",
    "%matplotlib inline"
   ]
  },
  {
   "cell_type": "code",
   "execution_count": 2,
   "metadata": {},
   "outputs": [
    {
     "data": {
      "text/plain": [
       "True"
      ]
     },
     "execution_count": 2,
     "metadata": {},
     "output_type": "execute_result"
    }
   ],
   "source": [
    "###Load .env enviroment variables\n",
    "load_dotenv()"
   ]
  },
  {
   "cell_type": "code",
   "execution_count": 3,
   "metadata": {},
   "outputs": [],
   "source": [
    "###Set current amount of crypto assets\n",
    "my_btc = 1.2 \n",
    "my_eth = 5.3"
   ]
  },
  {
   "cell_type": "code",
   "execution_count": 4,
   "metadata": {},
   "outputs": [],
   "source": [
    "###Crypto API URLs\n",
    "btc_url = \"https://api.alternative.me/v2/ticker/Bitcoin/?convert=CAD\"\n",
    "eth_url = \"https://api.alternative.me/v2/ticker/Ethereum/?convert=CAD\""
   ]
  },
  {
   "cell_type": "code",
   "execution_count": 5,
   "metadata": {},
   "outputs": [],
   "source": [
    "btc = requests.get(btc_url).json()\n",
    "eth = requests.get(eth_url).json()"
   ]
  },
  {
   "cell_type": "code",
   "execution_count": 6,
   "metadata": {},
   "outputs": [],
   "source": [
    "###Fetch current BTC price\n",
    "btc_value = btc[\"data\"][\"1\"][\"quotes\"][\"CAD\"][\"price\"]\n",
    "###Fetch current ETH price\n",
    "eth_value = eth[\"data\"][\"1027\"][\"quotes\"][\"CAD\"][\"price\"]"
   ]
  },
  {
   "cell_type": "code",
   "execution_count": 7,
   "metadata": {},
   "outputs": [],
   "source": [
    "###Compute current value of my crpto\n",
    "my_btc_value = btc_value * my_btc\n",
    "my_eth_value = eth_value * my_eth"
   ]
  },
  {
   "cell_type": "code",
   "execution_count": 8,
   "metadata": {},
   "outputs": [
    {
     "name": "stdout",
     "output_type": "stream",
     "text": [
      "The current value of your 1.2 BTC is $20662.21\n",
      "The current value of your 5.3 ETH is $2909.61\n"
     ]
    }
   ],
   "source": [
    "###Print current crypto wallet balance\n",
    "print(f\"The current value of your {my_btc} BTC is ${my_btc_value:0.2f}\")\n",
    "print(f\"The current value of your {my_eth} ETH is ${my_eth_value:0.2f}\")"
   ]
  },
  {
   "cell_type": "code",
   "execution_count": 9,
   "metadata": {},
   "outputs": [],
   "source": [
    "###Current amount of shares\n",
    "my_agg = 200\n",
    "my_spy = 50"
   ]
  },
  {
   "cell_type": "code",
   "execution_count": 10,
   "metadata": {},
   "outputs": [],
   "source": [
    "###Set Alpaca API key and secret\n",
    "alpaca_api_key = os.getenv(\"api_key_id\")\n",
    "alpaca_secret_key = os.getenv(\"secret_api_key\")\n",
    "###Create the Alpaca API object\n",
    "alpaca = tradeapi.REST(\n",
    "    alpaca_api_key,\n",
    "    alpaca_secret_key,\n",
    "    api_version=\"v2\")"
   ]
  },
  {
   "cell_type": "code",
   "execution_count": 11,
   "metadata": {},
   "outputs": [
    {
     "data": {
      "text/html": [
       "<div>\n",
       "<style scoped>\n",
       "    .dataframe tbody tr th:only-of-type {\n",
       "        vertical-align: middle;\n",
       "    }\n",
       "\n",
       "    .dataframe tbody tr th {\n",
       "        vertical-align: top;\n",
       "    }\n",
       "\n",
       "    .dataframe thead tr th {\n",
       "        text-align: left;\n",
       "    }\n",
       "</style>\n",
       "<table border=\"1\" class=\"dataframe\">\n",
       "  <thead>\n",
       "    <tr>\n",
       "      <th></th>\n",
       "      <th colspan=\"5\" halign=\"left\">AGG</th>\n",
       "      <th colspan=\"5\" halign=\"left\">SPY</th>\n",
       "    </tr>\n",
       "    <tr>\n",
       "      <th></th>\n",
       "      <th>open</th>\n",
       "      <th>high</th>\n",
       "      <th>low</th>\n",
       "      <th>close</th>\n",
       "      <th>volume</th>\n",
       "      <th>open</th>\n",
       "      <th>high</th>\n",
       "      <th>low</th>\n",
       "      <th>close</th>\n",
       "      <th>volume</th>\n",
       "    </tr>\n",
       "  </thead>\n",
       "  <tbody>\n",
       "    <tr>\n",
       "      <th>2020-10-16 00:00:00-04:00</th>\n",
       "      <td>117.99</td>\n",
       "      <td>118.0778</td>\n",
       "      <td>117.88</td>\n",
       "      <td>117.88</td>\n",
       "      <td>3589312</td>\n",
       "      <td>348.96</td>\n",
       "      <td>350.75</td>\n",
       "      <td>347.1</td>\n",
       "      <td>347.25</td>\n",
       "      <td>62467863</td>\n",
       "    </tr>\n",
       "  </tbody>\n",
       "</table>\n",
       "</div>"
      ],
      "text/plain": [
       "                              AGG                                        SPY  \\\n",
       "                             open      high     low   close   volume    open   \n",
       "2020-10-16 00:00:00-04:00  117.99  118.0778  117.88  117.88  3589312  348.96   \n",
       "\n",
       "                                                            \n",
       "                             high    low   close    volume  \n",
       "2020-10-16 00:00:00-04:00  350.75  347.1  347.25  62467863  "
      ]
     },
     "execution_count": 11,
     "metadata": {},
     "output_type": "execute_result"
    }
   ],
   "source": [
    "###Format current date as ISO format\n",
    "today = pd.Timestamp(\"2020-10-16\", tz=\"America/New_York\").isoformat()\n",
    "###Set the tickers\n",
    "tickers = [\"AGG\", \"SPY\"]\n",
    "###Set timeframe to '1D' for Alpaca API\n",
    "timeframe = \"1D\"\n",
    "###Get current closing prices for SPY and AGG\n",
    "stocks_portfolio = alpaca.get_barset(\n",
    "    tickers,\n",
    "    timeframe,\n",
    "    start = today,\n",
    "    end = today\n",
    ").df\n",
    "\n",
    "###Preview DataFrame\n",
    "stocks_portfolio"
   ]
  },
  {
   "cell_type": "code",
   "execution_count": 12,
   "metadata": {},
   "outputs": [
    {
     "name": "stdout",
     "output_type": "stream",
     "text": [
      "Current AGG closing price: $117.88\n",
      "Current SPY closing price: $347.25\n"
     ]
    }
   ],
   "source": [
    "###Pick AGG and SPY close prices\n",
    "agg_close_price = float(stocks_portfolio[\"AGG\"][\"close\"])\n",
    "spy_close_price = float(stocks_portfolio[\"SPY\"][\"close\"])\n",
    "\n",
    "###Print AGG and SPY close prices\n",
    "print(f\"Current AGG closing price: ${agg_close_price}\")\n",
    "print(f\"Current SPY closing price: ${spy_close_price}\")"
   ]
  },
  {
   "cell_type": "code",
   "execution_count": 13,
   "metadata": {},
   "outputs": [
    {
     "name": "stdout",
     "output_type": "stream",
     "text": [
      "The current value of your 50 SPY shares is $17362.50\n",
      "The current value of your 200 AGG shares is $23576.00\n"
     ]
    }
   ],
   "source": [
    "###Compute the current value of shares\n",
    "my_agg_value = my_agg * agg_close_price\n",
    "my_spy_value = my_spy * spy_close_price\n",
    "\n",
    "###Print current value of share\n",
    "print(f\"The current value of your {my_spy} SPY shares is ${my_spy_value:0.2f}\")\n",
    "print(f\"The current value of your {my_agg} AGG shares is ${my_agg_value:0.2f}\")"
   ]
  },
  {
   "cell_type": "code",
   "execution_count": 14,
   "metadata": {},
   "outputs": [
    {
     "data": {
      "text/html": [
       "<div>\n",
       "<style scoped>\n",
       "    .dataframe tbody tr th:only-of-type {\n",
       "        vertical-align: middle;\n",
       "    }\n",
       "\n",
       "    .dataframe tbody tr th {\n",
       "        vertical-align: top;\n",
       "    }\n",
       "\n",
       "    .dataframe thead th {\n",
       "        text-align: right;\n",
       "    }\n",
       "</style>\n",
       "<table border=\"1\" class=\"dataframe\">\n",
       "  <thead>\n",
       "    <tr style=\"text-align: right;\">\n",
       "      <th></th>\n",
       "      <th>amount</th>\n",
       "    </tr>\n",
       "  </thead>\n",
       "  <tbody>\n",
       "    <tr>\n",
       "      <th>crypto</th>\n",
       "      <td>23571.815</td>\n",
       "    </tr>\n",
       "    <tr>\n",
       "      <th>shares</th>\n",
       "      <td>40938.500</td>\n",
       "    </tr>\n",
       "  </tbody>\n",
       "</table>\n",
       "</div>"
      ],
      "text/plain": [
       "           amount\n",
       "crypto  23571.815\n",
       "shares  40938.500"
      ]
     },
     "execution_count": 14,
     "metadata": {},
     "output_type": "execute_result"
    }
   ],
   "source": [
    "###Set monthly household income\n",
    "monthly_income = 12000\n",
    "###Create savings DataFrame\n",
    "stocks_data = {\n",
    "    \"amount\": [(my_btc_value + my_eth_value), (my_agg_value + my_spy_value)]\n",
    "}\n",
    "###Set the tickers\n",
    "tickers_data = [\"crypto\", \"shares\"]\n",
    "df_savings = pd.DataFrame(stocks_data, index=tickers_data)\n",
    "###Display savings DataFrame\n",
    "df_savings"
   ]
  },
  {
   "cell_type": "code",
   "execution_count": 15,
   "metadata": {},
   "outputs": [
    {
     "data": {
      "text/plain": [
       "<matplotlib.axes._subplots.AxesSubplot at 0x179262ab0d0>"
      ]
     },
     "execution_count": 15,
     "metadata": {},
     "output_type": "execute_result"
    },
    {
     "data": {
      "image/png": "[encoded data removed]",
      "text/plain": [
       "<Figure size 432x288 with 1 Axes>"
      ]
     },
     "metadata": {},
     "output_type": "display_data"
    }
   ],
   "source": [
    "###Plot savings pie chart\n",
    "df_savings.plot.pie(y=\"amount\", title=\"Composition of Personal savings\")"
   ]
  },
  {
   "cell_type": "code",
   "execution_count": 16,
   "metadata": {},
   "outputs": [
    {
     "name": "stdout",
     "output_type": "stream",
     "text": [
      "Congratulations! You have enough money in your emergency fund\n"
     ]
    }
   ],
   "source": [
    "###Set ideal emergency fund\n",
    "emergency_fund = monthly_income * 3\n",
    "total_savings = my_btc_value + my_eth_value + my_agg_value + my_spy_value\n",
    "###Calculate total amount of savings\n",
    "if total_savings > emergency_fund:\n",
    "    print(\"Congratulations! You have enough money in your emergency fund\")\n",
    "elif total_savings == emergency_fund:\n",
    "    print(\"Congratulations! You reached your financial goal\")\n",
    "elif total_savings < emergency_fund:\n",
    "    print(f\"You are {balance} from reaching your goal\")\n",
    "###Validate saving health\n",
    "balance = (my_btc_value + my_eth_value + my_agg_value + my_spy_value) - (monthly_income * 3) "
   ]
  },
  {
   "cell_type": "code",
   "execution_count": 17,
   "metadata": {},
   "outputs": [],
   "source": [
    "from MCForecastTools import MCSimulation"
   ]
  },
  {
   "cell_type": "code",
   "execution_count": 18,
   "metadata": {},
   "outputs": [],
   "source": [
    "###Set start and end dates of five years back from today.\n",
    "###Sample results may vary from the solution based on the time frame chosen\n",
    "start_date = pd.Timestamp('2015-10-09', tz='America/New_York').isoformat()\n",
    "end_date = pd.Timestamp('2020-10-09', tz='America/New_York').isoformat()"
   ]
  },
  {
   "cell_type": "code",
   "execution_count": 19,
   "metadata": {},
   "outputs": [
    {
     "data": {
      "text/html": [
       "<div>\n",
       "<style scoped>\n",
       "    .dataframe tbody tr th:only-of-type {\n",
       "        vertical-align: middle;\n",
       "    }\n",
       "\n",
       "    .dataframe tbody tr th {\n",
       "        vertical-align: top;\n",
       "    }\n",
       "\n",
       "    .dataframe thead tr th {\n",
       "        text-align: left;\n",
       "    }\n",
       "</style>\n",
       "<table border=\"1\" class=\"dataframe\">\n",
       "  <thead>\n",
       "    <tr>\n",
       "      <th></th>\n",
       "      <th colspan=\"5\" halign=\"left\">AGG</th>\n",
       "      <th colspan=\"5\" halign=\"left\">SPY</th>\n",
       "    </tr>\n",
       "    <tr>\n",
       "      <th></th>\n",
       "      <th>open</th>\n",
       "      <th>high</th>\n",
       "      <th>low</th>\n",
       "      <th>close</th>\n",
       "      <th>volume</th>\n",
       "      <th>open</th>\n",
       "      <th>high</th>\n",
       "      <th>low</th>\n",
       "      <th>close</th>\n",
       "      <th>volume</th>\n",
       "    </tr>\n",
       "  </thead>\n",
       "  <tbody>\n",
       "    <tr>\n",
       "      <th>2015-10-09 00:00:00-04:00</th>\n",
       "      <td>109.32</td>\n",
       "      <td>109.4650</td>\n",
       "      <td>109.2423</td>\n",
       "      <td>109.32</td>\n",
       "      <td>2717365.0</td>\n",
       "      <td>201.37</td>\n",
       "      <td>201.90</td>\n",
       "      <td>200.58</td>\n",
       "      <td>201.36</td>\n",
       "      <td>74424197</td>\n",
       "    </tr>\n",
       "    <tr>\n",
       "      <th>2015-10-12 00:00:00-04:00</th>\n",
       "      <td>109.48</td>\n",
       "      <td>109.6500</td>\n",
       "      <td>109.3300</td>\n",
       "      <td>109.63</td>\n",
       "      <td>816909.0</td>\n",
       "      <td>201.42</td>\n",
       "      <td>201.76</td>\n",
       "      <td>200.91</td>\n",
       "      <td>201.55</td>\n",
       "      <td>42032769</td>\n",
       "    </tr>\n",
       "    <tr>\n",
       "      <th>2015-10-13 00:00:00-04:00</th>\n",
       "      <td>109.62</td>\n",
       "      <td>109.7500</td>\n",
       "      <td>109.4900</td>\n",
       "      <td>109.63</td>\n",
       "      <td>1360561.0</td>\n",
       "      <td>200.65</td>\n",
       "      <td>202.16</td>\n",
       "      <td>200.05</td>\n",
       "      <td>200.22</td>\n",
       "      <td>72076783</td>\n",
       "    </tr>\n",
       "    <tr>\n",
       "      <th>2015-10-14 00:00:00-04:00</th>\n",
       "      <td>109.83</td>\n",
       "      <td>110.0500</td>\n",
       "      <td>109.7251</td>\n",
       "      <td>110.03</td>\n",
       "      <td>3785661.0</td>\n",
       "      <td>200.18</td>\n",
       "      <td>200.87</td>\n",
       "      <td>198.94</td>\n",
       "      <td>199.27</td>\n",
       "      <td>82856686</td>\n",
       "    </tr>\n",
       "    <tr>\n",
       "      <th>2015-10-15 00:00:00-04:00</th>\n",
       "      <td>109.93</td>\n",
       "      <td>110.0499</td>\n",
       "      <td>109.7900</td>\n",
       "      <td>109.89</td>\n",
       "      <td>1792325.0</td>\n",
       "      <td>200.08</td>\n",
       "      <td>202.34</td>\n",
       "      <td>199.64</td>\n",
       "      <td>202.33</td>\n",
       "      <td>96008389</td>\n",
       "    </tr>\n",
       "  </tbody>\n",
       "</table>\n",
       "</div>"
      ],
      "text/plain": [
       "                              AGG                                         \\\n",
       "                             open      high       low   close     volume   \n",
       "2015-10-09 00:00:00-04:00  109.32  109.4650  109.2423  109.32  2717365.0   \n",
       "2015-10-12 00:00:00-04:00  109.48  109.6500  109.3300  109.63   816909.0   \n",
       "2015-10-13 00:00:00-04:00  109.62  109.7500  109.4900  109.63  1360561.0   \n",
       "2015-10-14 00:00:00-04:00  109.83  110.0500  109.7251  110.03  3785661.0   \n",
       "2015-10-15 00:00:00-04:00  109.93  110.0499  109.7900  109.89  1792325.0   \n",
       "\n",
       "                              SPY                                    \n",
       "                             open    high     low   close    volume  \n",
       "2015-10-09 00:00:00-04:00  201.37  201.90  200.58  201.36  74424197  \n",
       "2015-10-12 00:00:00-04:00  201.42  201.76  200.91  201.55  42032769  \n",
       "2015-10-13 00:00:00-04:00  200.65  202.16  200.05  200.22  72076783  \n",
       "2015-10-14 00:00:00-04:00  200.18  200.87  198.94  199.27  82856686  \n",
       "2015-10-15 00:00:00-04:00  200.08  202.34  199.64  202.33  96008389  "
      ]
     },
     "execution_count": 19,
     "metadata": {},
     "output_type": "execute_result"
    }
   ],
   "source": [
    "###Get 5 years' worth of historical data for SPY and AGG\n",
    "df_portfolio_5y = alpaca.get_barset(\n",
    "    tickers,\n",
    "    timeframe,\n",
    "    start = start_date,\n",
    "    end = end_date\n",
    ").df\n",
    "\n",
    "###Display sample data\n",
    "df_portfolio_5y.head()"
   ]
  },
  {
   "cell_type": "code",
   "execution_count": 20,
   "metadata": {},
   "outputs": [],
   "source": [
    "###Configuring a Monte Carlo simulation to forecast 30 years cumulative returns\n",
    "MC_stocks_30 = MCSimulation(\n",
    "    portfolio_data = df_portfolio_5y,\n",
    "    weights = [.40,.60,],\n",
    "    num_simulation = 500,\n",
    "    num_trading_days = 252*30\n",
    ")"
   ]
  },
  {
   "cell_type": "code",
   "execution_count": 21,
   "metadata": {},
   "outputs": [
    {
     "data": {
      "text/html": [
       "<div>\n",
       "<style scoped>\n",
       "    .dataframe tbody tr th:only-of-type {\n",
       "        vertical-align: middle;\n",
       "    }\n",
       "\n",
       "    .dataframe tbody tr th {\n",
       "        vertical-align: top;\n",
       "    }\n",
       "\n",
       "    .dataframe thead tr th {\n",
       "        text-align: left;\n",
       "    }\n",
       "</style>\n",
       "<table border=\"1\" class=\"dataframe\">\n",
       "  <thead>\n",
       "    <tr>\n",
       "      <th></th>\n",
       "      <th colspan=\"6\" halign=\"left\">AGG</th>\n",
       "      <th colspan=\"6\" halign=\"left\">SPY</th>\n",
       "    </tr>\n",
       "    <tr>\n",
       "      <th></th>\n",
       "      <th>open</th>\n",
       "      <th>high</th>\n",
       "      <th>low</th>\n",
       "      <th>close</th>\n",
       "      <th>volume</th>\n",
       "      <th>daily_return</th>\n",
       "      <th>open</th>\n",
       "      <th>high</th>\n",
       "      <th>low</th>\n",
       "      <th>close</th>\n",
       "      <th>volume</th>\n",
       "      <th>daily_return</th>\n",
       "    </tr>\n",
       "  </thead>\n",
       "  <tbody>\n",
       "    <tr>\n",
       "      <th>2015-10-09 00:00:00-04:00</th>\n",
       "      <td>109.32</td>\n",
       "      <td>109.4650</td>\n",
       "      <td>109.2423</td>\n",
       "      <td>109.32</td>\n",
       "      <td>2717365.0</td>\n",
       "      <td>NaN</td>\n",
       "      <td>201.37</td>\n",
       "      <td>201.90</td>\n",
       "      <td>200.58</td>\n",
       "      <td>201.36</td>\n",
       "      <td>74424197</td>\n",
       "      <td>NaN</td>\n",
       "    </tr>\n",
       "    <tr>\n",
       "      <th>2015-10-12 00:00:00-04:00</th>\n",
       "      <td>109.48</td>\n",
       "      <td>109.6500</td>\n",
       "      <td>109.3300</td>\n",
       "      <td>109.63</td>\n",
       "      <td>816909.0</td>\n",
       "      <td>0.002836</td>\n",
       "      <td>201.42</td>\n",
       "      <td>201.76</td>\n",
       "      <td>200.91</td>\n",
       "      <td>201.55</td>\n",
       "      <td>42032769</td>\n",
       "      <td>0.000944</td>\n",
       "    </tr>\n",
       "    <tr>\n",
       "      <th>2015-10-13 00:00:00-04:00</th>\n",
       "      <td>109.62</td>\n",
       "      <td>109.7500</td>\n",
       "      <td>109.4900</td>\n",
       "      <td>109.63</td>\n",
       "      <td>1360561.0</td>\n",
       "      <td>0.000000</td>\n",
       "      <td>200.65</td>\n",
       "      <td>202.16</td>\n",
       "      <td>200.05</td>\n",
       "      <td>200.22</td>\n",
       "      <td>72076783</td>\n",
       "      <td>-0.006599</td>\n",
       "    </tr>\n",
       "    <tr>\n",
       "      <th>2015-10-14 00:00:00-04:00</th>\n",
       "      <td>109.83</td>\n",
       "      <td>110.0500</td>\n",
       "      <td>109.7251</td>\n",
       "      <td>110.03</td>\n",
       "      <td>3785661.0</td>\n",
       "      <td>0.003649</td>\n",
       "      <td>200.18</td>\n",
       "      <td>200.87</td>\n",
       "      <td>198.94</td>\n",
       "      <td>199.27</td>\n",
       "      <td>82856686</td>\n",
       "      <td>-0.004745</td>\n",
       "    </tr>\n",
       "    <tr>\n",
       "      <th>2015-10-15 00:00:00-04:00</th>\n",
       "      <td>109.93</td>\n",
       "      <td>110.0499</td>\n",
       "      <td>109.7900</td>\n",
       "      <td>109.89</td>\n",
       "      <td>1792325.0</td>\n",
       "      <td>-0.001272</td>\n",
       "      <td>200.08</td>\n",
       "      <td>202.34</td>\n",
       "      <td>199.64</td>\n",
       "      <td>202.33</td>\n",
       "      <td>96008389</td>\n",
       "      <td>0.015356</td>\n",
       "    </tr>\n",
       "  </tbody>\n",
       "</table>\n",
       "</div>"
      ],
      "text/plain": [
       "                              AGG                                         \\\n",
       "                             open      high       low   close     volume   \n",
       "2015-10-09 00:00:00-04:00  109.32  109.4650  109.2423  109.32  2717365.0   \n",
       "2015-10-12 00:00:00-04:00  109.48  109.6500  109.3300  109.63   816909.0   \n",
       "2015-10-13 00:00:00-04:00  109.62  109.7500  109.4900  109.63  1360561.0   \n",
       "2015-10-14 00:00:00-04:00  109.83  110.0500  109.7251  110.03  3785661.0   \n",
       "2015-10-15 00:00:00-04:00  109.93  110.0499  109.7900  109.89  1792325.0   \n",
       "\n",
       "                                           SPY                          \\\n",
       "                          daily_return    open    high     low   close   \n",
       "2015-10-09 00:00:00-04:00          NaN  201.37  201.90  200.58  201.36   \n",
       "2015-10-12 00:00:00-04:00     0.002836  201.42  201.76  200.91  201.55   \n",
       "2015-10-13 00:00:00-04:00     0.000000  200.65  202.16  200.05  200.22   \n",
       "2015-10-14 00:00:00-04:00     0.003649  200.18  200.87  198.94  199.27   \n",
       "2015-10-15 00:00:00-04:00    -0.001272  200.08  202.34  199.64  202.33   \n",
       "\n",
       "                                                  \n",
       "                             volume daily_return  \n",
       "2015-10-09 00:00:00-04:00  74424197          NaN  \n",
       "2015-10-12 00:00:00-04:00  42032769     0.000944  \n",
       "2015-10-13 00:00:00-04:00  72076783    -0.006599  \n",
       "2015-10-14 00:00:00-04:00  82856686    -0.004745  \n",
       "2015-10-15 00:00:00-04:00  96008389     0.015356  "
      ]
     },
     "execution_count": 21,
     "metadata": {},
     "output_type": "execute_result"
    }
   ],
   "source": [
    "###Printing the simulation input data\n",
    "MC_stocks_30.portfolio_data.head()"
   ]
  },
  {
   "cell_type": "code",
   "execution_count": null,
   "metadata": {},
   "outputs": [
    {
     "name": "stdout",
     "output_type": "stream",
     "text": [
      "Running Monte Carlo simulation number 0.\n",
      "Running Monte Carlo simulation number 10.\n",
      "Running Monte Carlo simulation number 20.\n",
      "Running Monte Carlo simulation number 30.\n",
      "Running Monte Carlo simulation number 40.\n"
     ]
    }
   ],
   "source": [
    "# Running a Monte Carlo simulation to forecast 30 years cumulative returns\n",
    "MC_stocks_30.calc_cumulative_return()"
   ]
  },
  {
   "cell_type": "code",
   "execution_count": null,
   "metadata": {},
   "outputs": [],
   "source": [
    " # Plot simulation outcomes\n",
    "line_plot = MC_stocks_30.plot_simulation()"
   ]
  },
  {
   "cell_type": "code",
   "execution_count": null,
   "metadata": {},
   "outputs": [],
   "source": [
    "# Plot probability distribution and confidence intervals\n",
    "dist_plot = MC_stocks_30.plot_distribution()"
   ]
  },
  {
   "cell_type": "code",
   "execution_count": null,
   "metadata": {},
   "outputs": [],
   "source": [
    "# Fetch summary statistics from the Monte Carlo simulation results\n",
    "stocks_tbl = MC_stocks_30.summarize_cumulative_return() \n",
    "\n",
    "# Print summary statistics\n",
    "print(stocks_tbl)"
   ]
  },
  {
   "cell_type": "code",
   "execution_count": null,
   "metadata": {},
   "outputs": [],
   "source": [
    "# Set initial investment\n",
    "initial_investment = 20000\n",
    "\n",
    "# Use the lower and upper `95%` confidence intervals to calculate the range of the possible \n",
    "#outcomes of our $20,000\n",
    "ci_lower = round(stocks_tbl[8]*initial_investment,2)\n",
    "ci_upper = round(stocks_tbl[9]*initial_investment,2)\n",
    "\n",
    "# Print results\n",
    "print(f\"With an initial investment of ${initial_investment} in your portfolio you have a 95% \" \n",
    "      f\"chance it will be within in the range of ${ci_lower} and ${ci_upper} over the next 30 years\")"
   ]
  },
  {
   "cell_type": "code",
   "execution_count": null,
   "metadata": {},
   "outputs": [],
   "source": [
    "# Set initial investment\n",
    "initial_investment_inc = 20000 * 1.5\n",
    "\n",
    "# Use the lower and upper `95%` confidence intervals to calculate the range of the possible \n",
    "#outcomes of our $30,000\n",
    "ci_lower_inc = round(stocks_tbl[8]*initial_investment_inc,2)\n",
    "ci_upper_inc = round(stocks_tbl[9]*initial_investment_inc,2)\n",
    "\n",
    "# Print results\n",
    "# Print results\n",
    "print(f\"With an initial investment of ${initial_investment_inc} in your portfolio you have a 95 %\" \n",
    "      f\"chance it will be within in the range of ${ci_lower_inc} and ${ci_upper_inc} over the next 30 years\")"
   ]
  },
  {
   "cell_type": "code",
   "execution_count": null,
   "metadata": {},
   "outputs": [],
   "source": [
    "#Optional Challenge - Early Retirement - 5y"
   ]
  },
  {
   "cell_type": "code",
   "execution_count": null,
   "metadata": {},
   "outputs": [],
   "source": [
    "# Configuring a Monte Carlo simulation to forecast 5 years cumulative returns\n",
    "MC_stocks_5 = MCSimulation(\n",
    "    portfolio_data = df_portfolio_5y,\n",
    "    weights = [.20,.80,],\n",
    "    num_simulation = 500,\n",
    "    num_trading_days = 252*5\n",
    ")"
   ]
  },
  {
   "cell_type": "code",
   "execution_count": null,
   "metadata": {},
   "outputs": [],
   "source": [
    "# Running a Monte Carlo simulation to forecast 5 years cumulative returns\n",
    "MC_stocks_5.calc_cumulative_return()"
   ]
  },
  {
   "cell_type": "code",
   "execution_count": null,
   "metadata": {},
   "outputs": [],
   "source": [
    "# Plot simulation outcomes \n",
    "line_plot_5y = MC_stocks_5.plot_simulation()"
   ]
  },
  {
   "cell_type": "code",
   "execution_count": null,
   "metadata": {},
   "outputs": [],
   "source": [
    "# Plot probability distribution and confidence intervals \n",
    "dist_plot_5y = MC_stocks_5.plot_distribution()"
   ]
  },
  {
   "cell_type": "code",
   "execution_count": null,
   "metadata": {},
   "outputs": [],
   "source": [
    "# Fetch summary statistics from the Monte Carlo simulation results \n",
    "tbl_5y = MC_stocks_5.summarize_cumulative_return() \n",
    "# Print summary statistics \n",
    "print(tbl_5y)"
   ]
  },
  {
   "cell_type": "code",
   "execution_count": null,
   "metadata": {},
   "outputs": [],
   "source": [
    "# Set initial investment\n",
    "initial_investment_ER1 = 300000\n",
    "\n",
    "# Use the lower and upper `95%` confidence intervals to calculate the range of the possible outcomes\n",
    "ci_lower_ER1 = round(tbl_5y[8]*initial_investment_ER1,2)\n",
    "ci_upper_ER1 = round(tbl_5y[9]*initial_investment_ER1,2)\n",
    "\n",
    "# Print results\n",
    "# Print results\n",
    "print(f\"With an initial investment of ${initial_investment_ER1} in your portfolio you have a 95% \" \n",
    "      f\"chance it will be within in the range of ${ci_lower_ER1} and ${ci_upper_ER1} over the next 5 years\")"
   ]
  },
  {
   "cell_type": "code",
   "execution_count": null,
   "metadata": {},
   "outputs": [],
   "source": [
    "#Optional Challenge - Early Retirement - 10y"
   ]
  },
  {
   "cell_type": "code",
   "execution_count": null,
   "metadata": {},
   "outputs": [],
   "source": [
    "# Configuring a Monte Carlo simulation to forecast 10 years cumulative returns\n",
    "MC_stocks_10 = MCSimulation(\n",
    "    portfolio_data = df_portfolio_5y,\n",
    "    weights = [.30,.70,],\n",
    "    num_simulation = 500,\n",
    "    num_trading_days = 252*10\n",
    ")"
   ]
  },
  {
   "cell_type": "code",
   "execution_count": null,
   "metadata": {},
   "outputs": [],
   "source": [
    "# Running a Monte Carlo simulation to forecast 5 years cumulative returns\n",
    "MC_stocks_10.calc_cumulative_return()"
   ]
  },
  {
   "cell_type": "code",
   "execution_count": null,
   "metadata": {},
   "outputs": [],
   "source": [
    "# Plot simulation outcomes \n",
    "line_plot_10y = MC_stocks_10.plot_simulation()"
   ]
  },
  {
   "cell_type": "code",
   "execution_count": null,
   "metadata": {},
   "outputs": [],
   "source": [
    "# Plot probability distribution and confidence intervals \n",
    "dist_plot_10y = MC_stocks_10.plot_distribution()"
   ]
  },
  {
   "cell_type": "code",
   "execution_count": null,
   "metadata": {},
   "outputs": [],
   "source": [
    "# Fetch summary statistics from the Monte Carlo simulation results \n",
    "tbl_10y = MC_stocks_10.summarize_cumulative_return() \n",
    "# Print summary statistics \n",
    "print(tbl_10y)"
   ]
  },
  {
   "cell_type": "code",
   "execution_count": null,
   "metadata": {},
   "outputs": [],
   "source": [
    "# Set initial investment\n",
    "initial_investment_ER2 = 200000\n",
    "\n",
    "# Use the lower and upper `95%` confidence intervals to calculate the range of the possible outcomes\n",
    "ci_lower_ER2 = round(tbl_10y[8]*initial_investment_ER2,2)\n",
    "ci_upper_ER2 = round(tbl_10y[9]*initial_investment_ER2,2)\n",
    "\n",
    "# Print results\n",
    "print(f\"With an initial investment of ${initial_investment_ER2} in your portfolio you have a 95% \" \n",
    "      f\"chance it will be within in the range of ${ci_lower_ER2} and ${ci_upper_ER2} over the next 10 years\")"
   ]
  },
  {
   "cell_type": "code",
   "execution_count": null,
   "metadata": {},
   "outputs": [],
   "source": [
    "print(\"Financial Analysis\")\n",
    "print(\"----------------------------\")\n",
    "print(f\"The current value of your {my_spy} SPY shares is ${my_spy_value:0.2f}\")\n",
    "print(f\"The current value of your {my_agg} AGG shares is ${my_agg_value:0.2f}\")\n",
    "print(\"----------------------------\")\n",
    "print(f\"With an initial investment of ${initial_investment} in your portfolio you have a 95% \" \n",
    "      f\"chance it will be within the range of ${ci_lower} and ${ci_upper} over the next 30 years\")\n",
    "print(\"----------------------------\")\n",
    "print(f\"With an initial investment of ${initial_investment_inc} in your portfolio you have a 95% \" \n",
    "      f\"chance it will be within the range of ${ci_lower_inc} and ${ci_upper_inc} over the next 30 years\")\n",
    "print(\"----------------------------\")\n",
    "print(\"----------------------------EARLY RETIREMENT SIMULATION----------------------------\")\n",
    "print(f\"With an initial investment of ${initial_investment_ER1} in your portfolio you have a 95% \" \n",
    "      f\"chance it will be within the range of ${ci_lower_ER1} and ${ci_upper_ER1} over the next 5 years\")\n",
    "print(\"----------------------------\")\n",
    "print(f\"With an initial investment of ${initial_investment_ER2} in your portfolio you have a 95% \" \n",
    "      f\"chance it will be within the range of ${ci_lower_ER2} and ${ci_upper_ER2} over the next 10 years\")"
   ]
  },
  {
   "cell_type": "code",
   "execution_count": null,
   "metadata": {},
   "outputs": [],
   "source": [
    "print(\"Early Retirement Analysis\")\n",
    "print(\"----------------------------\")\n",
    "print(f\"To be able to retire in 5 years you would need to have an initial investment of ${initial_investment_ER1} \"\n",
    "      f\"considering 80% stocks (SPY) and 20% bonds (AGG) composition of the portfolio.\" \n",
    "      f\"It would give 95% chance it will be within the range of ${ci_lower_ER1} and ${ci_upper_ER1} over the next 5 years\")\n",
    "print(\"THIS WOULD BE A RISK TAKER PORTFOLIO\")\n",
    "print(\"----------------------------\")\n",
    "print(f\"To be able to retire in 5 years you would need to have an initial investment of ${initial_investment_ER2} \"\n",
    "      f\"considering 70% stocks (SPY) and 30% bonds (AGG) composition of the portfolio.\" \n",
    "      f\"It would give 95% chance it will be within the range of ${ci_lower_ER2} and ${ci_upper_ER2} over the next 10 years\")\n",
    "print(\"THIS WOULD BE A CONSERVATIVE PORTFOLIO TO RETIRE EARLY\")"
   ]
  },
  {
   "cell_type": "code",
   "execution_count": null,
   "metadata": {},
   "outputs": [],
   "source": []
  }
 ],
 "metadata": {
  "kernelspec": {
   "display_name": "Python 3",
   "language": "python",
   "name": "python3"
  },
  "language_info": {
   "codemirror_mode": {
    "name": "ipython",
    "version": 3
   },
   "file_extension": ".py",
   "mimetype": "text/x-python",
   "name": "python",
   "nbconvert_exporter": "python",
   "pygments_lexer": "ipython3",
   "version": "3.8.3"
  }
 },
 "nbformat": 4,
 "nbformat_minor": 4
}
